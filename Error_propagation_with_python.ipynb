{
  "nbformat": 4,
  "nbformat_minor": 0,
  "metadata": {
    "colab": {
      "provenance": [],
      "toc_visible": true,
      "authorship_tag": "ABX9TyN5FTSeV2x5mb0CXMjzEE/x",
      "include_colab_link": true
    },
    "kernelspec": {
      "name": "python3",
      "display_name": "Python 3"
    },
    "language_info": {
      "name": "python"
    }
  },
  "cells": [
    {
      "cell_type": "markdown",
      "metadata": {
        "id": "view-in-github",
        "colab_type": "text"
      },
      "source": [
        "<a href=\"https://colab.research.google.com/github/mdheying/356-Python/blob/main/Error_propagation_with_python.ipynb\" target=\"_parent\"><img src=\"https://colab.research.google.com/assets/colab-badge.svg\" alt=\"Open In Colab\"/></a>"
      ]
    },
    {
      "cell_type": "markdown",
      "source": [
        "# Background\n",
        "Every measurement made in the laboratory has a finite uncertainty associated with it.  Likewise, any property calculated from one of these measurement will have an uncertainty that has been propagated from the original measurements.  For instance, suppose we wish to calculate the area of a rectangle by measuring its sides with a ruler, and we obstain the following results:\n",
        "\n",
        "x = 15.50 cm &plusmn; 0.40 cm\n",
        "y = 30.40 cm &plusmn; 0.70 cm\n",
        "\n",
        "The area can be quickly calculated to be 471.2 cm<sup>2</sup>, but what is the uncertainty in the area?  This question can be answered by techniques of error propagation.  To calculate the propagated error, we need to know:\n",
        "\n",
        "\n",
        "1.   the function, Z\n",
        "2.   the uncertainties (or 'error') involved in the associated measurements.\n",
        "\n",
        "The error in the variable i, usually denoted as σ<sub>i</sub>, must be determined by experiment. In our area example, the function is Z(x,y)=xy and the uncertainties are σ<sub>x</sub>=0.4, σ<sub>y</sub> = 0.7.  You have already learned the rules for propagating errors of simple sums, differences, products and ratios.  However, you will sometime need to propagate the error of a complicated function.  In this case, you must use the generate error formula:\n",
        "\n",
        "\n",
        "\n",
        "If there were three variables measured, there would be three terms in the square root, and so on.  We could do this calculation with just a paper and pencil (see the example in LabPal), but software such as python can make our work much more efficient.  Below is a guided example using the rectangle described above."
      ],
      "metadata": {
        "id": "zvor2F3w4n52"
      }
    },
    {
      "cell_type": "markdown",
      "source": [
        "# Implementation\n",
        "When we propagate error, we need to utilize python's symbolic abilities.\n",
        "\n",
        "```\n",
        "from sympy import *\n",
        "x, y, Area, sx, sy, sArea = symbols('x, y, Area, sx, sy, sArea')\n",
        "```\n",
        "\n",
        "To begin, we brought in SymPy (in its entirety) and then defined all of our variables as symbols.\n",
        "\n",
        "Next, we define our function - in this example, the area of a rectangle.\n",
        "\n",
        "\n",
        "```\n",
        "Area = x*y\n",
        "```\n",
        "\n",
        "Finally, we set up the general error formula.  Remember that we are taking advantage of python's ability to take partial derivatives so that we do not need to do them.  That means the following pattern would apply to any measurement with two variables, not just our rectangle example.\n",
        "\n",
        "\n",
        "```\n",
        "sArea = sqrt(sx**2*(diff(Area,x))**2 + sy**2*(diff(Area,y))**2)\n",
        "```\n",
        "\n",
        "After this line, we have two symbolic expressions, *Area*, and *sArea*.  We could choose to display the equations, but typically, we are more interested in their values.\n",
        "Our last step, then, is to substitute the actual values into the equations.\n",
        "\n",
        "\n",
        "```\n",
        "Area_val = Area.subs({x:15.5, y:30.4})\n",
        "sArea_val = sArea.subs({x:15.5, y:30.4, sx:0.4, sy:0.7})\n",
        "```\n",
        "\n",
        "The code block below has combined all of the steps above along with display commands."
      ],
      "metadata": {
        "id": "8k4HRoUTjS9r"
      }
    },
    {
      "cell_type": "code",
      "execution_count": null,
      "metadata": {
        "id": "fE0SMmMA4fF3",
        "colab": {
          "base_uri": "https://localhost:8080/",
          "height": 58
        },
        "outputId": "f909655e-d587-403d-b6e0-7624ba518c14"
      },
      "outputs": [
        {
          "output_type": "display_data",
          "data": {
            "text/plain": [
              "471.200000000000"
            ],
            "text/latex": "$\\displaystyle 471.2$"
          },
          "metadata": {}
        },
        {
          "output_type": "display_data",
          "data": {
            "text/plain": [
              "16.2968739333653"
            ],
            "text/latex": "$\\displaystyle 16.2968739333653$"
          },
          "metadata": {}
        }
      ],
      "source": [
        "from sympy import *\n",
        "x, y, Area, sx, sy, sArea = symbols('x, y, Area, sx, sy, sArea')\n",
        "\n",
        "Area = x*y\n",
        "sArea = sqrt(sx**2*(diff(Area,x))**2 + sy**2*(diff(Area,y))**2)\n",
        "\n",
        "Area_val = Area.subs({x:15.5, y:30.4})\n",
        "sArea_val = sArea.subs({x:15.5, y:30.4, sx:0.4, sy:0.7})\n",
        "\n",
        "display(Area_val)\n",
        "display(sArea_val)"
      ]
    },
    {
      "cell_type": "markdown",
      "source": [
        "# Significant figures\n",
        "In this course (CHEM 356) we will apply a specific form of significant figures, different from the general rules you have likely used in the past.\n",
        "\n",
        "\n",
        "1.   Round σ<sub>Z</sub> to **2** significant figures.\n",
        "2.   Round Z so that it has the same number of decimal places.\n",
        "\n",
        "In our example, this will look like:\n",
        "\n",
        "\n",
        "1.   16.29876... becomes 16\n",
        "2.   471.2... becomes 471\n",
        "\n",
        "This gives us our final result for the area, 471 &plusmn; 16 cm<sup>2</sup>"
      ],
      "metadata": {
        "id": "bMZHpOfGm8aE"
      }
    },
    {
      "cell_type": "markdown",
      "source": [
        "# Propagation 1 (LabPal assignment)\n",
        "In this exercise, you will calculate the density and its uncertainty.\n",
        "Remember that density (represented in LabPal as ρ), is found from ρ=m/V\n",
        "Don't forget to treat your significant figures appropriately at the end!"
      ],
      "metadata": {
        "id": "pcHDWt-Fte7G"
      }
    },
    {
      "cell_type": "code",
      "source": [
        "# Here are a few lines to get you started\n",
        "from sympy import *\n",
        "m, V, dens, sm, sV, sdens = symbols('m, V, dens, sm, sV, sdens')\n"
      ],
      "metadata": {
        "id": "WchXIYrPtdfj"
      },
      "execution_count": null,
      "outputs": []
    },
    {
      "cell_type": "markdown",
      "source": [
        "# Propagation 2 (LabPal assignment)\n",
        "In this exercise, the formula is more complicated.  Unlike previous examples, it would take a long time to apply the simple propagation rules you may have used in the past.  This is definitely a time to use python!\n",
        "*Aside*: Does the formula look familiar? This is the final temperature of two objects of the same material, initially at different temperatures, in contact with each other."
      ],
      "metadata": {
        "id": "oKZETYLsvf4v"
      }
    },
    {
      "cell_type": "markdown",
      "source": [
        "*Aside*: Does the formula look familiar? This is the final temperature of two objects of the same material, initially at different temperatures, in contact with each other."
      ],
      "metadata": {
        "id": "Zxm7DeO3wjmC"
      }
    },
    {
      "cell_type": "code",
      "source": [
        "# Here are a few lines to get you started\n",
        "from sympy import *\n",
        "m1, m2, T1, T2, T, sm1, sm2, sT1, sT2 = symbols('m1, m2, T1, T2, T, sm1, sm2, sT1, sT2')\n"
      ],
      "metadata": {
        "id": "hJkfPzpywuq6"
      },
      "execution_count": null,
      "outputs": []
    },
    {
      "cell_type": "markdown",
      "source": [
        "# Propagation 3 (LabPal assignment)\n",
        "One last time!  We end on a dilution calculation.  See how you do!"
      ],
      "metadata": {
        "id": "jzlRtlTlxPwl"
      }
    },
    {
      "cell_type": "code",
      "source": [
        "# Here is one line to get you started...\n",
        "from sympy import *"
      ],
      "metadata": {
        "id": "GHSfaiHPxyiX"
      },
      "execution_count": null,
      "outputs": []
    }
  ]
}