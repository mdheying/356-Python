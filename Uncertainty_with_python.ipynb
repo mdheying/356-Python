{
  "nbformat": 4,
  "nbformat_minor": 0,
  "metadata": {
    "colab": {
      "provenance": [],
      "toc_visible": true,
      "authorship_tag": "ABX9TyNExn7SqxtEf3lPhtoXqiUG",
      "include_colab_link": true
    },
    "kernelspec": {
      "name": "python3",
      "display_name": "Python 3"
    },
    "language_info": {
      "name": "python"
    }
  },
  "cells": [
    {
      "cell_type": "markdown",
      "metadata": {
        "id": "view-in-github",
        "colab_type": "text"
      },
      "source": [
        "<a href=\"https://colab.research.google.com/github/mdheying/356-Python/blob/main/Uncertainty_with_python.ipynb\" target=\"_parent\"><img src=\"https://colab.research.google.com/assets/colab-badge.svg\" alt=\"Open In Colab\"/></a>"
      ]
    },
    {
      "cell_type": "markdown",
      "source": [
        "# Introduction\n",
        "When we report the results of our experiments, we need to also report the uncertainty of the result.  In most cases, you will repeat the same experiment many times so that you can be certain that your results are reproducible.  For numerical results, it is customary to report the average result ± the uncertainty, and it is important to describe how the uncertainty is computed.  A common way to report the uncertainty of an average value is using a 95% (two-tailed) confidence interval.\n",
        "\n",
        "In this equation, **s** is the sample standard deviation, **t** is Student's t, and **N** is the number of results that you are averaging.  Values for **t** are found in stats and quant books; an abbreviated table of t values at the 95 % confidence level (two-tails) is shown below.\n",
        "\n",
        "A statement might look something like “with an average value of 4.25 ± 0.10 g, with a level of confidence of approximately 95%.”  If you are looking at a [t-test table](https://www.tdistributiontable.com/), the degrees of freedom (DF) are not the same as N, but DF = N-1.  For a more exhaustive treatment of uncertainty reporting, see the NIST guidelines.<sup>1</sup>\n",
        "\n",
        "1. Mohr, P. J. & Taylor, B. N. The Nist Reference on Constants, Units, and Uncertainty. Available at: https://physics.nist.gov/cuu/index.html. (Accessed: 18th March 2019)\n"
      ],
      "metadata": {
        "id": "LYcT-BMNxQIk"
      }
    },
    {
      "cell_type": "markdown",
      "source": [
        "# Using python to find a t-value\n",
        "Given the formula in the introduction, calculation of a 95% (or any other) confidence level uncertainty can be done solely on a calculator, given the measurements and a t-table.  Since the Student's t-table is a well-known entity, we can also access it quickly through python.  The tool that we need is in SciPy, and there are a number of ways we could choose to import it.  Here, we import SciPy in its entirety."
      ],
      "metadata": {
        "id": "p8xA3jwizaD0"
      }
    },
    {
      "cell_type": "code",
      "source": [
        "from scipy import *\n",
        "\n",
        "# Sample size\n",
        "N = 5\n",
        "# Student's t-statistic\n",
        "# q is a one-tailed value, so for our 95%, we use 0.975\n",
        "# As noted above, the degrees of freedom (df) is n - 1\n",
        "t_val = stats.t.ppf(q = 0.975, df = N - 1)\n",
        "print(t_val)"
      ],
      "metadata": {
        "colab": {
          "base_uri": "https://localhost:8080/"
        },
        "id": "8mI_lSyx1CFx",
        "outputId": "11cea1d3-5916-4aa9-972c-339d535421b0"
      },
      "execution_count": null,
      "outputs": [
        {
          "output_type": "stream",
          "name": "stdout",
          "text": [
            "2.7764451051977987\n"
          ]
        }
      ]
    },
    {
      "cell_type": "markdown",
      "source": [
        "# Using python for the standard deviation\n",
        "If we are going to use python for the t-value, we can also consider just using it for the entire uncertainty calculation.  Just as the stats package in SciPy can find a t-value, we can use it to calculate a sample standard deviation (note that there are also options via NumPy).  Because it is the sample, rather than the population, we need an extra argument in the call."
      ],
      "metadata": {
        "id": "z6da4WLb2IPo"
      }
    },
    {
      "cell_type": "code",
      "source": [
        "from scipy import *\n",
        "\n",
        "trials = [14.5, 14.1, 15.0, 14.7] #Hypothetical set of 4 measurements\n",
        "\n",
        "s_val = stats.tstd(trials, ddof = 1) # Without ddof = 1, this is a population std.dev.\n",
        "print(s_val)"
      ],
      "metadata": {
        "colab": {
          "base_uri": "https://localhost:8080/"
        },
        "id": "aRT7epKz5p2i",
        "outputId": "ce2b7b34-ff14-4215-a613-9caf871357b1"
      },
      "execution_count": null,
      "outputs": [
        {
          "output_type": "stream",
          "name": "stdout",
          "text": [
            "0.37749172176353757\n"
          ]
        }
      ]
    },
    {
      "cell_type": "markdown",
      "source": [
        "# Using python for the uncertainty value\n",
        "Given the two pieces above, we can put everything into a single python script for the uncertainty."
      ],
      "metadata": {
        "id": "YotSJdVB6qLm"
      }
    },
    {
      "cell_type": "code",
      "source": [
        "from scipy import *\n",
        "\n",
        "trials = [14.5, 14.1, 15.0, 14.7] #Hypothetical set of 4 measurements\n",
        "\n",
        "# Sample size\n",
        "N = len(trials) # Counting can be hard; python can help!\n",
        "\n",
        "# Call our calculations and table value\n",
        "s_val = stats.tstd(trials, ddof = 1)\n",
        "t_val = stats.t.ppf(q = 0.975, df = N - 1)\n",
        "\n",
        "unc = s_val*t_val/(N**(1/2))\n",
        "print(unc)"
      ],
      "metadata": {
        "colab": {
          "base_uri": "https://localhost:8080/"
        },
        "id": "Eaix2YeE69ZR",
        "outputId": "f9e95f78-7a4c-4b2c-c2c7-e9beb94e1163"
      },
      "execution_count": null,
      "outputs": [
        {
          "output_type": "stream",
          "name": "stdout",
          "text": [
            "0.6006735676008825\n"
          ]
        }
      ]
    },
    {
      "cell_type": "markdown",
      "source": [
        "# Repeated Measures 1 (LabPal)\n",
        "In one of the examples above, you calculated a the uncertainty in a density based on a single mass and single volume measurement.  In this case, consider measuring density 5 times.  Try the coding structure below, if you like, if you do not wish to use a calculator and a table."
      ],
      "metadata": {
        "id": "h0v-dvmr-9mB"
      }
    },
    {
      "cell_type": "code",
      "source": [
        "from scipy import *\n",
        "\n",
        "densities = [] # Be sure to include your values!\n",
        "\n",
        "# Sample size\n",
        "N = len(trials) # Counting can be hard; python can help!\n",
        "\n",
        "# Call our calculations and table value\n",
        "s_val = stats.tstd(densities, ddof = 1)\n",
        "t_val = stats.t.ppf(q = 0.975, df = N - 1)\n",
        "\n",
        "unc = s_val*t_val/(N**(1/2))\n",
        "print(unc)"
      ],
      "metadata": {
        "id": "LhgnkPVu_rXI"
      },
      "execution_count": null,
      "outputs": []
    }
  ]
}