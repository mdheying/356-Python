{
  "nbformat": 4,
  "nbformat_minor": 0,
  "metadata": {
    "colab": {
      "provenance": [],
      "authorship_tag": "ABX9TyN5laAMU2LnT2pUxjZC3jMn",
      "include_colab_link": true
    },
    "kernelspec": {
      "name": "python3",
      "display_name": "Python 3"
    },
    "language_info": {
      "name": "python"
    }
  },
  "cells": [
    {
      "cell_type": "markdown",
      "metadata": {
        "id": "view-in-github",
        "colab_type": "text"
      },
      "source": [
        "<a href=\"https://colab.research.google.com/github/mdheying/356-Python/blob/main/Regression_with_python.ipynb\" target=\"_parent\"><img src=\"https://colab.research.google.com/assets/colab-badge.svg\" alt=\"Open In Colab\"/></a>"
      ]
    },
    {
      "cell_type": "markdown",
      "source": [
        "# Introduction\n",
        "At this point in your career, you are likely comfortable with straight-line fitting (linear regression) via a spreadsheet program like Excel, etc.  In this course, we are not only interested in a particular value, but how well we know that value.  Thus, the uncertainty of a slope and intercept are quantities that we want to be able to determine."
      ],
      "metadata": {
        "id": "UrwWU6-S2AmH"
      }
    },
    {
      "cell_type": "markdown",
      "source": [
        "# Regression in python\n",
        "As with error propagation and uncertainty of repeated measurements, python provides a route to determining both the slope and intercept values and their respective uncertainties."
      ],
      "metadata": {
        "id": "ltcW5PFZ4ARg"
      }
    },
    {
      "cell_type": "markdown",
      "source": [
        "In the example below, we will fit a few data points that are typed into our code.  In practice, it is often more convenient to import your data.  As with the other techniques, the tools that we need are in SciPy.  Here, we import SciPy in its entirety."
      ],
      "metadata": {
        "id": "4C_CYdhI4Wt1"
      }
    },
    {
      "cell_type": "code",
      "execution_count": null,
      "metadata": {
        "colab": {
          "base_uri": "https://localhost:8080/"
        },
        "id": "yzJamIw81_Fn",
        "outputId": "3df175fd-e5f2-49e6-9fbb-93d569bae7b8"
      },
      "outputs": [
        {
          "output_type": "stream",
          "name": "stdout",
          "text": [
            "2.444102564102564 -1.1358974358974372\n"
          ]
        }
      ],
      "source": [
        "from scipy import *\n",
        "\n",
        "# Example data\n",
        "x = [4, 7, 11, 13]\n",
        "y = [8.3, 16.3, 26.3, 30.1]\n",
        "\n",
        "regress = stats.linregress(x,y)\n",
        "\n",
        "slope = regress.slope\n",
        "intercept = regress.intercept\n",
        "\n",
        "print(slope,intercept)"
      ]
    },
    {
      "cell_type": "markdown",
      "source": [
        "In the block above, we fit the data with the *linregress* tool and extracted the slope and intercept.  The happy result here is that the additional quantities that we desire have already been determined - they are in the *regress* object."
      ],
      "metadata": {
        "id": "F6jeabfk6ng2"
      }
    },
    {
      "cell_type": "code",
      "source": [
        "slope_uncertainty = regress.stderr\n",
        "intercept_uncertainty = regress.intercept_stderr\n",
        "print(slope_uncertainty,intercept_uncertainty)"
      ],
      "metadata": {
        "colab": {
          "base_uri": "https://localhost:8080/"
        },
        "id": "6J7OD3TJ7MES",
        "outputId": "39aedac4-537b-4a8f-a28d-3d63521c5181"
      },
      "execution_count": null,
      "outputs": [
        {
          "output_type": "stream",
          "name": "stdout",
          "text": [
            "0.09143749369445123 0.8614071939069521\n"
          ]
        }
      ]
    },
    {
      "cell_type": "markdown",
      "source": [
        "Remember the error convention for this course means that we need to report these values based on the uncertainty and matching decimal places.  For the values calculated above: <br>\n",
        "slope = 2.444 &plusmn; 0.091 <br>\n",
        "intercept = -1.14 &plusmn; 0.86 <br>\n",
        "Notice that their uncertainties dictate reporting them to different decimal places and different numbers of significant figures."
      ],
      "metadata": {
        "id": "YfQTFc6V78nG"
      }
    }
  ]
}